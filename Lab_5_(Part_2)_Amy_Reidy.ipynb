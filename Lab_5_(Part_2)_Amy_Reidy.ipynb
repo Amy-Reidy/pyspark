{
  "nbformat": 4,
  "nbformat_minor": 0,
  "metadata": {
    "colab": {
      "name": "Lab 5 (Part 2) - Amy Reidy.ipynb",
      "provenance": [],
      "collapsed_sections": []
    },
    "kernelspec": {
      "name": "python3",
      "display_name": "Python 3"
    },
    "language_info": {
      "name": "python"
    }
  },
  "cells": [
    {
      "cell_type": "markdown",
      "source": [
        "## Apache Spark Machine Learning using Dataframes in Google Colab\n",
        "\n",
        "1.\tSetup an Apache Spark instance in Google Colab"
      ],
      "metadata": {
        "id": "myfKcOU5B9ku"
      }
    },
    {
      "cell_type": "code",
      "execution_count": 1,
      "metadata": {
        "id": "Kp5D5kE46Vsr"
      },
      "outputs": [],
      "source": [
        "# install java\n",
        "!apt-get install openjdk-8-jdk-headless -qq > /dev/null\n",
        "\n",
        "# install spark (change the version number if needed)\n",
        "!wget -q https://archive.apache.org/dist/spark/spark-3.0.2/spark-3.0.2-bin-hadoop2.7.tgz\n",
        "\n",
        "# unzip the spark file to the current folder\n",
        "!tar xf spark-3.0.2-bin-hadoop2.7.tgz\n",
        "\n",
        "# set your spark folder to your system path environment. \n",
        "import os\n",
        "os.environ[\"SPARK_HOME\"] = \"/content/spark-3.0.2-bin-hadoop2.7\"\n",
        "\n",
        "# install findspark using pip\n",
        "!pip install -q findspark\n",
        "import findspark\n",
        "findspark.init()"
      ]
    },
    {
      "cell_type": "markdown",
      "source": [
        "2.\tCreate a Spark session"
      ],
      "metadata": {
        "id": "ut_o2dVTCnHf"
      }
    },
    {
      "cell_type": "code",
      "source": [
        "from pyspark.sql import SparkSession\n",
        "spark = SparkSession.builder\\\n",
        "          .master(\"local\")\\\n",
        "          .appName(\"Colab\")\\\n",
        "          .config('spark.ui.port', '4050')\\\n",
        "          .getOrCreate()\n",
        "\n",
        "spark"
      ],
      "metadata": {
        "colab": {
          "base_uri": "https://localhost:8080/",
          "height": 219
        },
        "id": "sYxKL2at_uj1",
        "outputId": "df9ebf87-cd59-498b-aa06-59108e96fdc1"
      },
      "execution_count": 2,
      "outputs": [
        {
          "output_type": "execute_result",
          "data": {
            "text/plain": [
              "<pyspark.sql.session.SparkSession at 0x7f26fd999610>"
            ],
            "text/html": [
              "\n",
              "            <div>\n",
              "                <p><b>SparkSession - in-memory</b></p>\n",
              "                \n",
              "        <div>\n",
              "            <p><b>SparkContext</b></p>\n",
              "\n",
              "            <p><a href=\"http://fb01cb35b59a:4050\">Spark UI</a></p>\n",
              "\n",
              "            <dl>\n",
              "              <dt>Version</dt>\n",
              "                <dd><code>v3.0.2</code></dd>\n",
              "              <dt>Master</dt>\n",
              "                <dd><code>local</code></dd>\n",
              "              <dt>AppName</dt>\n",
              "                <dd><code>Colab</code></dd>\n",
              "            </dl>\n",
              "        </div>\n",
              "        \n",
              "            </div>\n",
              "        "
            ]
          },
          "metadata": {},
          "execution_count": 2
        }
      ]
    },
    {
      "cell_type": "markdown",
      "source": [
        "3.\tDownload dataset"
      ],
      "metadata": {
        "id": "Oe3ysa64CsXA"
      }
    },
    {
      "cell_type": "code",
      "source": [
        "!wget \"https://archive.ics.uci.edu/ml/machine-learning-databases/wine-quality/winequality-red.csv\" -O sample_data/wine-quality.csv"
      ],
      "metadata": {
        "colab": {
          "base_uri": "https://localhost:8080/"
        },
        "id": "QsPPcrMOD2hE",
        "outputId": "545375f3-e8e9-467e-dec4-709a629c1144"
      },
      "execution_count": 3,
      "outputs": [
        {
          "output_type": "stream",
          "name": "stdout",
          "text": [
            "--2022-03-20 13:15:44--  https://archive.ics.uci.edu/ml/machine-learning-databases/wine-quality/winequality-red.csv\n",
            "Resolving archive.ics.uci.edu (archive.ics.uci.edu)... 128.195.10.252\n",
            "Connecting to archive.ics.uci.edu (archive.ics.uci.edu)|128.195.10.252|:443... connected.\n",
            "HTTP request sent, awaiting response... 200 OK\n",
            "Length: 84199 (82K) [application/x-httpd-php]\n",
            "Saving to: ‘sample_data/wine-quality.csv’\n",
            "\n",
            "sample_data/wine-qu 100%[===================>]  82.23K  --.-KB/s    in 0.1s    \n",
            "\n",
            "2022-03-20 13:15:45 (814 KB/s) - ‘sample_data/wine-quality.csv’ saved [84199/84199]\n",
            "\n"
          ]
        }
      ]
    },
    {
      "cell_type": "markdown",
      "source": [
        "4.\tImport the Iris dataset into a dataframe and use df.show() to display."
      ],
      "metadata": {
        "id": "f5h_ZU5XC1Uq"
      }
    },
    {
      "cell_type": "code",
      "source": [
        "df = spark.read.csv(\"sample_data/wine-quality.csv\", inferSchema=True, header=True, sep=';')"
      ],
      "metadata": {
        "id": "08d4BWo1ETOe"
      },
      "execution_count": 4,
      "outputs": []
    },
    {
      "cell_type": "code",
      "source": [
        "df.show()"
      ],
      "metadata": {
        "colab": {
          "base_uri": "https://localhost:8080/"
        },
        "id": "xZxXHceXEJ9w",
        "outputId": "27d9cc74-7bdb-454b-fc8f-bc30ded499ef"
      },
      "execution_count": 5,
      "outputs": [
        {
          "output_type": "stream",
          "name": "stdout",
          "text": [
            "+-------------+----------------+-----------+--------------+---------+-------------------+--------------------+-------+----+---------+-------+-------+\n",
            "|fixed acidity|volatile acidity|citric acid|residual sugar|chlorides|free sulfur dioxide|total sulfur dioxide|density|  pH|sulphates|alcohol|quality|\n",
            "+-------------+----------------+-----------+--------------+---------+-------------------+--------------------+-------+----+---------+-------+-------+\n",
            "|          7.4|             0.7|        0.0|           1.9|    0.076|               11.0|                34.0| 0.9978|3.51|     0.56|    9.4|      5|\n",
            "|          7.8|            0.88|        0.0|           2.6|    0.098|               25.0|                67.0| 0.9968| 3.2|     0.68|    9.8|      5|\n",
            "|          7.8|            0.76|       0.04|           2.3|    0.092|               15.0|                54.0|  0.997|3.26|     0.65|    9.8|      5|\n",
            "|         11.2|            0.28|       0.56|           1.9|    0.075|               17.0|                60.0|  0.998|3.16|     0.58|    9.8|      6|\n",
            "|          7.4|             0.7|        0.0|           1.9|    0.076|               11.0|                34.0| 0.9978|3.51|     0.56|    9.4|      5|\n",
            "|          7.4|            0.66|        0.0|           1.8|    0.075|               13.0|                40.0| 0.9978|3.51|     0.56|    9.4|      5|\n",
            "|          7.9|             0.6|       0.06|           1.6|    0.069|               15.0|                59.0| 0.9964| 3.3|     0.46|    9.4|      5|\n",
            "|          7.3|            0.65|        0.0|           1.2|    0.065|               15.0|                21.0| 0.9946|3.39|     0.47|   10.0|      7|\n",
            "|          7.8|            0.58|       0.02|           2.0|    0.073|                9.0|                18.0| 0.9968|3.36|     0.57|    9.5|      7|\n",
            "|          7.5|             0.5|       0.36|           6.1|    0.071|               17.0|               102.0| 0.9978|3.35|      0.8|   10.5|      5|\n",
            "|          6.7|            0.58|       0.08|           1.8|    0.097|               15.0|                65.0| 0.9959|3.28|     0.54|    9.2|      5|\n",
            "|          7.5|             0.5|       0.36|           6.1|    0.071|               17.0|               102.0| 0.9978|3.35|      0.8|   10.5|      5|\n",
            "|          5.6|           0.615|        0.0|           1.6|    0.089|               16.0|                59.0| 0.9943|3.58|     0.52|    9.9|      5|\n",
            "|          7.8|            0.61|       0.29|           1.6|    0.114|                9.0|                29.0| 0.9974|3.26|     1.56|    9.1|      5|\n",
            "|          8.9|            0.62|       0.18|           3.8|    0.176|               52.0|               145.0| 0.9986|3.16|     0.88|    9.2|      5|\n",
            "|          8.9|            0.62|       0.19|           3.9|     0.17|               51.0|               148.0| 0.9986|3.17|     0.93|    9.2|      5|\n",
            "|          8.5|            0.28|       0.56|           1.8|    0.092|               35.0|               103.0| 0.9969| 3.3|     0.75|   10.5|      7|\n",
            "|          8.1|            0.56|       0.28|           1.7|    0.368|               16.0|                56.0| 0.9968|3.11|     1.28|    9.3|      5|\n",
            "|          7.4|            0.59|       0.08|           4.4|    0.086|                6.0|                29.0| 0.9974|3.38|      0.5|    9.0|      4|\n",
            "|          7.9|            0.32|       0.51|           1.8|    0.341|               17.0|                56.0| 0.9969|3.04|     1.08|    9.2|      6|\n",
            "+-------------+----------------+-----------+--------------+---------+-------------------+--------------------+-------+----+---------+-------+-------+\n",
            "only showing top 20 rows\n",
            "\n"
          ]
        }
      ]
    },
    {
      "cell_type": "code",
      "source": [
        "df.printSchema()"
      ],
      "metadata": {
        "colab": {
          "base_uri": "https://localhost:8080/"
        },
        "id": "qJllLefTXh3d",
        "outputId": "428b1d94-40f3-41cd-ae34-4fef0f937ef3"
      },
      "execution_count": 6,
      "outputs": [
        {
          "output_type": "stream",
          "name": "stdout",
          "text": [
            "root\n",
            " |-- fixed acidity: double (nullable = true)\n",
            " |-- volatile acidity: double (nullable = true)\n",
            " |-- citric acid: double (nullable = true)\n",
            " |-- residual sugar: double (nullable = true)\n",
            " |-- chlorides: double (nullable = true)\n",
            " |-- free sulfur dioxide: double (nullable = true)\n",
            " |-- total sulfur dioxide: double (nullable = true)\n",
            " |-- density: double (nullable = true)\n",
            " |-- pH: double (nullable = true)\n",
            " |-- sulphates: double (nullable = true)\n",
            " |-- alcohol: double (nullable = true)\n",
            " |-- quality: integer (nullable = true)\n",
            "\n"
          ]
        }
      ]
    },
    {
      "cell_type": "code",
      "source": [
        "print(df.columns)"
      ],
      "metadata": {
        "colab": {
          "base_uri": "https://localhost:8080/"
        },
        "id": "d4jJ3uXANrhk",
        "outputId": "8f2b6637-b52f-4921-b22a-d1d085e9516a"
      },
      "execution_count": 7,
      "outputs": [
        {
          "output_type": "stream",
          "name": "stdout",
          "text": [
            "['fixed acidity', 'volatile acidity', 'citric acid', 'residual sugar', 'chlorides', 'free sulfur dioxide', 'total sulfur dioxide', 'density', 'pH', 'sulphates', 'alcohol', 'quality']\n"
          ]
        }
      ]
    },
    {
      "cell_type": "markdown",
      "source": [
        "5.\tSpark ML can only deal with one features column - so we need to vectorise the multiple columns into one."
      ],
      "metadata": {
        "id": "Yo-ykPKGDAUa"
      }
    },
    {
      "cell_type": "code",
      "source": [
        "from pyspark.ml.linalg import Vectors\n",
        "from pyspark.ml.feature import VectorAssembler\n",
        "\n",
        "vector_assembler = VectorAssembler(\\\n",
        "                                   inputCols=['fixed acidity', 'volatile acidity', 'citric acid', \n",
        "                                              'residual sugar', 'chlorides', 'free sulfur dioxide', 'total sulfur dioxide', \n",
        "                                              'density', 'pH', 'sulphates', 'alcohol'],\n",
        "                                   outputCol=\"features\")\n",
        "df_temp = vector_assembler.transform(df)\n",
        "df_temp.show(3)"
      ],
      "metadata": {
        "colab": {
          "base_uri": "https://localhost:8080/"
        },
        "id": "xdivXksXEn--",
        "outputId": "f7c8107d-d703-4994-ac69-06286ea68dcd"
      },
      "execution_count": 8,
      "outputs": [
        {
          "output_type": "stream",
          "name": "stdout",
          "text": [
            "+-------------+----------------+-----------+--------------+---------+-------------------+--------------------+-------+----+---------+-------+-------+--------------------+\n",
            "|fixed acidity|volatile acidity|citric acid|residual sugar|chlorides|free sulfur dioxide|total sulfur dioxide|density|  pH|sulphates|alcohol|quality|            features|\n",
            "+-------------+----------------+-----------+--------------+---------+-------------------+--------------------+-------+----+---------+-------+-------+--------------------+\n",
            "|          7.4|             0.7|        0.0|           1.9|    0.076|               11.0|                34.0| 0.9978|3.51|     0.56|    9.4|      5|[7.4,0.7,0.0,1.9,...|\n",
            "|          7.8|            0.88|        0.0|           2.6|    0.098|               25.0|                67.0| 0.9968| 3.2|     0.68|    9.8|      5|[7.8,0.88,0.0,2.6...|\n",
            "|          7.8|            0.76|       0.04|           2.3|    0.092|               15.0|                54.0|  0.997|3.26|     0.65|    9.8|      5|[7.8,0.76,0.04,2....|\n",
            "+-------------+----------------+-----------+--------------+---------+-------------------+--------------------+-------+----+---------+-------+-------+--------------------+\n",
            "only showing top 3 rows\n",
            "\n"
          ]
        }
      ]
    },
    {
      "cell_type": "code",
      "source": [
        ""
      ],
      "metadata": {
        "id": "BDVD66bQcP0p"
      },
      "execution_count": 8,
      "outputs": []
    },
    {
      "cell_type": "markdown",
      "source": [
        "Drop the original feature columns and just display Class & features."
      ],
      "metadata": {
        "id": "Lo3cTGPBDEnk"
      }
    },
    {
      "cell_type": "code",
      "source": [
        "df = df_temp.drop('fixed acidity', 'volatile acidity', 'citric acid', 'residual sugar',\n",
        "                  'chlorides', 'free sulfur dioxide', 'total sulfur dioxide', 'density',\n",
        "                  'pH', 'sulphates', 'alcohol')\n",
        "df.show(3)"
      ],
      "metadata": {
        "colab": {
          "base_uri": "https://localhost:8080/"
        },
        "id": "IUPKCJpF6W8h",
        "outputId": "424df299-7ee2-4808-82a0-70b0923ba977"
      },
      "execution_count": 9,
      "outputs": [
        {
          "output_type": "stream",
          "name": "stdout",
          "text": [
            "+-------+--------------------+\n",
            "|quality|            features|\n",
            "+-------+--------------------+\n",
            "|      5|[7.4,0.7,0.0,1.9,...|\n",
            "|      5|[7.8,0.88,0.0,2.6...|\n",
            "|      5|[7.8,0.76,0.04,2....|\n",
            "+-------+--------------------+\n",
            "only showing top 3 rows\n",
            "\n"
          ]
        }
      ]
    },
    {
      "cell_type": "markdown",
      "source": [
        "6.\tConvert the output variable (quality) to a binary output - 0 for low quality wines with ratings below 7, 1 for high quality wine."
      ],
      "metadata": {
        "id": "SUXzsC1iDaFg"
      }
    },
    {
      "cell_type": "code",
      "source": [
        "import pyspark.sql.functions as F\n",
        "from pyspark.sql.types import *\n",
        "\n",
        "def quality_class(value):\n",
        "  if   value < 7: \n",
        "      return 0\n",
        "  else:\n",
        "      return 1\n",
        "\n",
        "#convert to a UDF Function by passing in the function and return type of function\n",
        "udf_quality_func= F.udf(quality_class, IntegerType())\n",
        "df = df.withColumn(\"quality_class\", udf_quality_func(\"quality\"))\n",
        "df.show()"
      ],
      "metadata": {
        "colab": {
          "base_uri": "https://localhost:8080/"
        },
        "id": "sTbdBreKaIjp",
        "outputId": "354805b5-bdab-4979-bb07-f4ed0e9b86dc"
      },
      "execution_count": 10,
      "outputs": [
        {
          "output_type": "stream",
          "name": "stdout",
          "text": [
            "+-------+--------------------+-------------+\n",
            "|quality|            features|quality_class|\n",
            "+-------+--------------------+-------------+\n",
            "|      5|[7.4,0.7,0.0,1.9,...|            0|\n",
            "|      5|[7.8,0.88,0.0,2.6...|            0|\n",
            "|      5|[7.8,0.76,0.04,2....|            0|\n",
            "|      6|[11.2,0.28,0.56,1...|            0|\n",
            "|      5|[7.4,0.7,0.0,1.9,...|            0|\n",
            "|      5|[7.4,0.66,0.0,1.8...|            0|\n",
            "|      5|[7.9,0.6,0.06,1.6...|            0|\n",
            "|      7|[7.3,0.65,0.0,1.2...|            1|\n",
            "|      7|[7.8,0.58,0.02,2....|            1|\n",
            "|      5|[7.5,0.5,0.36,6.1...|            0|\n",
            "|      5|[6.7,0.58,0.08,1....|            0|\n",
            "|      5|[7.5,0.5,0.36,6.1...|            0|\n",
            "|      5|[5.6,0.615,0.0,1....|            0|\n",
            "|      5|[7.8,0.61,0.29,1....|            0|\n",
            "|      5|[8.9,0.62,0.18,3....|            0|\n",
            "|      5|[8.9,0.62,0.19,3....|            0|\n",
            "|      7|[8.5,0.28,0.56,1....|            1|\n",
            "|      5|[8.1,0.56,0.28,1....|            0|\n",
            "|      4|[7.4,0.59,0.08,4....|            0|\n",
            "|      6|[7.9,0.32,0.51,1....|            0|\n",
            "+-------+--------------------+-------------+\n",
            "only showing top 20 rows\n",
            "\n"
          ]
        }
      ]
    },
    {
      "cell_type": "markdown",
      "source": [
        "7.\tSplit your data into training and test datasets."
      ],
      "metadata": {
        "id": "ylHsa3KEDq_0"
      }
    },
    {
      "cell_type": "code",
      "source": [
        "(trainingData, testData) = df.randomSplit([0.7, 0.3])"
      ],
      "metadata": {
        "id": "7tUXG5xj7BJs"
      },
      "execution_count": 11,
      "outputs": []
    },
    {
      "cell_type": "markdown",
      "source": [
        "8.\t**Decision Tree Classifier** \\\n",
        "Specify the DecisionTreeClassifier and train the model on your training dataset.\n"
      ],
      "metadata": {
        "id": "3RvXKhj6DwY0"
      }
    },
    {
      "cell_type": "code",
      "source": [
        "from pyspark.ml.classification import DecisionTreeClassifier\n",
        "from pyspark.ml.evaluation import MulticlassClassificationEvaluator\n",
        "\n",
        "dt = DecisionTreeClassifier(labelCol=\"quality_class\", featuresCol=\"features\")\n",
        "model = dt.fit(trainingData)"
      ],
      "metadata": {
        "id": "I-UlECJC7I-k"
      },
      "execution_count": 12,
      "outputs": []
    },
    {
      "cell_type": "markdown",
      "source": [
        "9.\tTest your model with your test dataset."
      ],
      "metadata": {
        "id": "zpjxRI5HEChI"
      }
    },
    {
      "cell_type": "code",
      "source": [
        "predictions = model.transform(testData)\n",
        "\n",
        "predictions.select(\"prediction\", \"quality_class\").show(15)"
      ],
      "metadata": {
        "colab": {
          "base_uri": "https://localhost:8080/"
        },
        "id": "kL2vlElI70Q_",
        "outputId": "b1021791-29fb-457d-bd0e-484b70f52473"
      },
      "execution_count": 13,
      "outputs": [
        {
          "output_type": "stream",
          "name": "stdout",
          "text": [
            "+----------+-------------+\n",
            "|prediction|quality_class|\n",
            "+----------+-------------+\n",
            "|       0.0|            0|\n",
            "|       0.0|            0|\n",
            "|       0.0|            0|\n",
            "|       0.0|            0|\n",
            "|       0.0|            0|\n",
            "|       0.0|            0|\n",
            "|       0.0|            0|\n",
            "|       0.0|            0|\n",
            "|       0.0|            0|\n",
            "|       0.0|            0|\n",
            "|       0.0|            0|\n",
            "|       0.0|            0|\n",
            "|       0.0|            0|\n",
            "|       0.0|            0|\n",
            "|       0.0|            0|\n",
            "+----------+-------------+\n",
            "only showing top 15 rows\n",
            "\n"
          ]
        }
      ]
    },
    {
      "cell_type": "markdown",
      "source": [
        "10.\tRun an evaluator function to show the accuracy of your model."
      ],
      "metadata": {
        "id": "Kgbo6bUsEJhj"
      }
    },
    {
      "cell_type": "code",
      "source": [
        "evaluator = MulticlassClassificationEvaluator(\\\n",
        "                                              labelCol=\"quality_class\", predictionCol=\"prediction\",\\\n",
        "                                              metricName=\"accuracy\")\n",
        "accuracy = evaluator.evaluate(predictions)\n",
        "print(\"Test Error = %g\" % (1.0 - accuracy))\n",
        "print(\"Test set accuracy = \" + str(accuracy))"
      ],
      "metadata": {
        "colab": {
          "base_uri": "https://localhost:8080/"
        },
        "id": "QIKCRXgW8Ou4",
        "outputId": "6d4a7495-759a-4f4f-dd58-2286765eaa7a"
      },
      "execution_count": 14,
      "outputs": [
        {
          "output_type": "stream",
          "name": "stdout",
          "text": [
            "Test Error = 0.11336\n",
            "Test set accuracy = 0.8866396761133604\n"
          ]
        }
      ]
    },
    {
      "cell_type": "markdown",
      "source": [
        "11.\t**Random Forest Classifier** \\\n",
        "Specify the RandomForestClassifier, train the model on your training dataset, predict using your test dataset, and run an evaluator to test accuracy.\n"
      ],
      "metadata": {
        "id": "3kiEGIEOEOHV"
      }
    },
    {
      "cell_type": "code",
      "source": [
        "from pyspark.ml.classification import RandomForestClassifier\n",
        "rf = RandomForestClassifier(labelCol=\"quality_class\",\\\n",
        "                            featuresCol=\"features\", numTrees=10)\n",
        "model = rf.fit(trainingData)\n",
        "predictions = model.transform(testData)\n",
        "predictions.select(\"prediction\", \"quality_class\").show(10)"
      ],
      "metadata": {
        "colab": {
          "base_uri": "https://localhost:8080/"
        },
        "id": "vAe_V7bB8dU6",
        "outputId": "5924c573-ea6a-4662-a899-be765d7b15eb"
      },
      "execution_count": 15,
      "outputs": [
        {
          "output_type": "stream",
          "name": "stdout",
          "text": [
            "+----------+-------------+\n",
            "|prediction|quality_class|\n",
            "+----------+-------------+\n",
            "|       0.0|            0|\n",
            "|       0.0|            0|\n",
            "|       0.0|            0|\n",
            "|       0.0|            0|\n",
            "|       0.0|            0|\n",
            "|       0.0|            0|\n",
            "|       0.0|            0|\n",
            "|       0.0|            0|\n",
            "|       0.0|            0|\n",
            "|       0.0|            0|\n",
            "+----------+-------------+\n",
            "only showing top 10 rows\n",
            "\n"
          ]
        }
      ]
    },
    {
      "cell_type": "code",
      "source": [
        "evaluator = MulticlassClassificationEvaluator(labelCol=\"quality_class\",\\\n",
        "                                              predictionCol=\"prediction\", metricName=\"accuracy\")\n",
        "accuracy = evaluator.evaluate(predictions)\n",
        "print(\"Test Error = %g\" % (1.0 - accuracy))\n",
        "print(\"Test set accuracy = \" + str(accuracy))"
      ],
      "metadata": {
        "colab": {
          "base_uri": "https://localhost:8080/"
        },
        "id": "TX-EJsrb9M_u",
        "outputId": "0522bad2-fff1-4bd3-8b87-a0362cf5ebbd"
      },
      "execution_count": 16,
      "outputs": [
        {
          "output_type": "stream",
          "name": "stdout",
          "text": [
            "Test Error = 0.117409\n",
            "Test set accuracy = 0.8825910931174089\n"
          ]
        }
      ]
    },
    {
      "cell_type": "markdown",
      "source": [
        "12.\t**Naive Bayes Classifier** \\\n",
        "Specify the NaiveBayes classifier, train the model on your training dataset, predict using your test dataset, and run an evaluator to test accuracy.\n"
      ],
      "metadata": {
        "id": "nNoEmqNcEbF1"
      }
    },
    {
      "cell_type": "code",
      "source": [
        "from pyspark.ml.classification import NaiveBayes\n",
        "nb = NaiveBayes(labelCol=\"quality_class\",\n",
        "                featuresCol=\"features\",\n",
        "                smoothing=1.0,\n",
        "                modelType=\"multinomial\"\n",
        "                )\n",
        "model = nb.fit(trainingData)"
      ],
      "metadata": {
        "id": "fCFMroUc_R79"
      },
      "execution_count": 17,
      "outputs": []
    },
    {
      "cell_type": "code",
      "source": [
        "predictions = model.transform(testData)\n",
        "predictions.select(\"quality_class\", \"probability\", \"prediction\").show(10)"
      ],
      "metadata": {
        "colab": {
          "base_uri": "https://localhost:8080/"
        },
        "id": "xS0PJQ36Aupu",
        "outputId": "69f6cf29-3d24-4d48-938b-12d13f47370b"
      },
      "execution_count": 18,
      "outputs": [
        {
          "output_type": "stream",
          "name": "stdout",
          "text": [
            "+-------------+--------------------+----------+\n",
            "|quality_class|         probability|prediction|\n",
            "+-------------+--------------------+----------+\n",
            "|            0|[0.13580265851518...|       1.0|\n",
            "|            0|[0.98718334580067...|       0.0|\n",
            "|            0|[0.09326372034584...|       1.0|\n",
            "|            0|[0.94372234374448...|       0.0|\n",
            "|            0|[0.46083870205651...|       1.0|\n",
            "|            0|[0.64812442726179...|       0.0|\n",
            "|            0|[0.10785404815044...|       1.0|\n",
            "|            0|[0.74401600490067...|       0.0|\n",
            "|            0|[0.55114820941214...|       0.0|\n",
            "|            0|[0.08912523847028...|       1.0|\n",
            "+-------------+--------------------+----------+\n",
            "only showing top 10 rows\n",
            "\n"
          ]
        }
      ]
    },
    {
      "cell_type": "code",
      "source": [
        "evaluator = MulticlassClassificationEvaluator(labelCol=\"quality_class\",\n",
        "                                              predictionCol=\"prediction\", metricName=\"accuracy\")\n",
        "accuracy = evaluator.evaluate(predictions)\n",
        "print(\"Test Error = %g\" % (1.0 - accuracy))\n",
        "print(\"Test set accuracy = \" + str(accuracy))"
      ],
      "metadata": {
        "colab": {
          "base_uri": "https://localhost:8080/"
        },
        "id": "aZ0URmayACjz",
        "outputId": "28247743-e2f9-4698-9a67-e5a7b328741f"
      },
      "execution_count": 19,
      "outputs": [
        {
          "output_type": "stream",
          "name": "stdout",
          "text": [
            "Test Error = 0.309717\n",
            "Test set accuracy = 0.6902834008097166\n"
          ]
        }
      ]
    },
    {
      "cell_type": "code",
      "source": [
        ""
      ],
      "metadata": {
        "id": "MVfH23vCBgqU"
      },
      "execution_count": 19,
      "outputs": []
    }
  ]
}